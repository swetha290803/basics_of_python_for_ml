{
  "nbformat": 4,
  "nbformat_minor": 0,
  "metadata": {
    "colab": {
      "provenance": []
    },
    "kernelspec": {
      "name": "python3",
      "display_name": "Python 3"
    },
    "language_info": {
      "name": "python"
    }
  },
  "cells": [
    {
      "cell_type": "markdown",
      "source": [
        "VARIABLES\n"
      ],
      "metadata": {
        "id": "RyEST7hQPZWl"
      }
    },
    {
      "cell_type": "code",
      "source": [
        "#declaring variables\n",
        "var1 = \"swetha\"\n",
        "var2 = 10\n",
        "var3 = 7.0\n",
        "var4 = True\n",
        "print(\"Value of variable1 is:\",var1)\n",
        "print(\"Value of variable2 is:\",var2)\n",
        "print(\"Value of variable3 is:\",var3)\n",
        "print(\"Value of variable4 is:\",var4)"
      ],
      "metadata": {
        "colab": {
          "base_uri": "https://localhost:8080/"
        },
        "id": "dXYzvEs6PcyH",
        "outputId": "c947d515-2311-4e4c-a32f-c749817975ae"
      },
      "execution_count": null,
      "outputs": [
        {
          "output_type": "stream",
          "name": "stdout",
          "text": [
            "Value of variable1 is: swetha\n",
            "Value of variable2 is: 10\n",
            "Value of variable3 is: 7.0\n",
            "Value of variable4 is: True\n"
          ]
        }
      ]
    },
    {
      "cell_type": "code",
      "source": [
        "#checking its type\n",
        "type(var1)\n"
      ],
      "metadata": {
        "colab": {
          "base_uri": "https://localhost:8080/"
        },
        "id": "ZS_wmPjXP_oP",
        "outputId": "c9b8ad94-0c1b-47ae-ee78-a59603df116f"
      },
      "execution_count": null,
      "outputs": [
        {
          "output_type": "execute_result",
          "data": {
            "text/plain": [
              "str"
            ]
          },
          "metadata": {},
          "execution_count": 3
        }
      ]
    },
    {
      "cell_type": "code",
      "source": [
        "type(var2)\n"
      ],
      "metadata": {
        "colab": {
          "base_uri": "https://localhost:8080/"
        },
        "id": "jwnpXrwhQJFe",
        "outputId": "e5d8542b-12a9-44eb-a478-700bddf812fc"
      },
      "execution_count": null,
      "outputs": [
        {
          "output_type": "execute_result",
          "data": {
            "text/plain": [
              "int"
            ]
          },
          "metadata": {},
          "execution_count": 4
        }
      ]
    },
    {
      "cell_type": "code",
      "source": [
        "type(var3)\n"
      ],
      "metadata": {
        "colab": {
          "base_uri": "https://localhost:8080/"
        },
        "id": "FVeVojCrQNeN",
        "outputId": "ff242e9d-5159-40c7-ad90-fd87aa17a20c"
      },
      "execution_count": null,
      "outputs": [
        {
          "output_type": "execute_result",
          "data": {
            "text/plain": [
              "float"
            ]
          },
          "metadata": {},
          "execution_count": 5
        }
      ]
    },
    {
      "cell_type": "code",
      "source": [
        "type(var4)"
      ],
      "metadata": {
        "colab": {
          "base_uri": "https://localhost:8080/"
        },
        "id": "CWnvOaFeQPMe",
        "outputId": "3ef20c26-bf73-4b29-b084-dbcdb4a2e1fd"
      },
      "execution_count": null,
      "outputs": [
        {
          "output_type": "execute_result",
          "data": {
            "text/plain": [
              "bool"
            ]
          },
          "metadata": {},
          "execution_count": 6
        }
      ]
    },
    {
      "cell_type": "markdown",
      "source": [
        "CONDITIONAL STATEMENTS"
      ],
      "metadata": {
        "id": "N0hUlHyiQRqy"
      }
    },
    {
      "cell_type": "code",
      "source": [
        "#if\n",
        "a = 7\n",
        "if(a > 1):\n",
        "  print(\"true\")"
      ],
      "metadata": {
        "colab": {
          "base_uri": "https://localhost:8080/"
        },
        "id": "in158T6bQQY2",
        "outputId": "7c6974a4-62e1-4323-d66e-15a282657126"
      },
      "execution_count": null,
      "outputs": [
        {
          "output_type": "stream",
          "name": "stdout",
          "text": [
            "true\n"
          ]
        }
      ]
    },
    {
      "cell_type": "code",
      "source": [
        "#if-elif-else\n",
        "a = 7\n",
        "b = 8\n",
        "if(a == b):\n",
        "  print(a + b)\n",
        "elif(a < b):\n",
        "  print(b - a)\n",
        "else:\n",
        "  print(a * b)"
      ],
      "metadata": {
        "colab": {
          "base_uri": "https://localhost:8080/"
        },
        "id": "JzYvBJCJQclA",
        "outputId": "93c19d35-2497-4d65-e38f-c938ea9e1653"
      },
      "execution_count": null,
      "outputs": [
        {
          "output_type": "stream",
          "name": "stdout",
          "text": [
            "1\n"
          ]
        }
      ]
    },
    {
      "cell_type": "markdown",
      "source": [
        "GENERATING SEQUNECE OF NUMBERS"
      ],
      "metadata": {
        "id": "TOQrvrO4RP-P"
      }
    },
    {
      "cell_type": "code",
      "source": [
        "a = list(range(1,10,2))\n",
        "print(a)\n"
      ],
      "metadata": {
        "colab": {
          "base_uri": "https://localhost:8080/"
        },
        "id": "_WBnloNLRSWo",
        "outputId": "f434b2e6-c5bb-4440-88fe-89f9b1b2adb5"
      },
      "execution_count": null,
      "outputs": [
        {
          "output_type": "stream",
          "name": "stdout",
          "text": [
            "[1, 3, 5, 7, 9]\n"
          ]
        }
      ]
    },
    {
      "cell_type": "markdown",
      "source": [
        "CONTROL FLOW STATEMENTS"
      ],
      "metadata": {
        "id": "neIVE2-8R4T4"
      }
    },
    {
      "cell_type": "code",
      "source": [
        "#for loop\n",
        "for i in range(1,10):\n",
        "  print(i)"
      ],
      "metadata": {
        "colab": {
          "base_uri": "https://localhost:8080/"
        },
        "id": "JIECHH05Qwkz",
        "outputId": "f35ca1ff-da17-415c-8e6d-ac0b920f81c4"
      },
      "execution_count": null,
      "outputs": [
        {
          "output_type": "stream",
          "name": "stdout",
          "text": [
            "1\n",
            "2\n",
            "3\n",
            "4\n",
            "5\n",
            "6\n",
            "7\n",
            "8\n",
            "9\n"
          ]
        }
      ]
    },
    {
      "cell_type": "code",
      "source": [
        "#while loop\n",
        "i = 1\n",
        "while i < 7:\n",
        "  print(i)\n",
        "  i += 1\n"
      ],
      "metadata": {
        "colab": {
          "base_uri": "https://localhost:8080/"
        },
        "id": "f004Y2l3SBMW",
        "outputId": "9bc6ab81-4afd-4712-915d-d91e639a0e68"
      },
      "execution_count": null,
      "outputs": [
        {
          "output_type": "stream",
          "name": "stdout",
          "text": [
            "1\n",
            "2\n",
            "3\n",
            "4\n",
            "5\n",
            "6\n"
          ]
        }
      ]
    },
    {
      "cell_type": "markdown",
      "source": [
        "FUNCTIONS\n"
      ],
      "metadata": {
        "id": "u_799vRDTXbt"
      }
    },
    {
      "cell_type": "code",
      "source": [
        "def add(a,b):\n",
        "  return a + b\n",
        "result = add(2,3)\n",
        "print(result)"
      ],
      "metadata": {
        "colab": {
          "base_uri": "https://localhost:8080/"
        },
        "id": "GznN1FooS6rJ",
        "outputId": "6fab695b-acc0-4319-f52e-c71b36cca800"
      },
      "execution_count": null,
      "outputs": [
        {
          "output_type": "stream",
          "name": "stdout",
          "text": [
            "5\n"
          ]
        }
      ]
    },
    {
      "cell_type": "code",
      "source": [
        "def addElements(a,b):\n",
        "  return a + b\n",
        "result = addElements(\"Machine\",\"Learning\")\n",
        "print(result)\n"
      ],
      "metadata": {
        "colab": {
          "base_uri": "https://localhost:8080/"
        },
        "id": "9SJDD5wdTfg7",
        "outputId": "be2d97e7-c239-48ba-94eb-3854771a0a61"
      },
      "execution_count": null,
      "outputs": [
        {
          "output_type": "stream",
          "name": "stdout",
          "text": [
            "MachineLearning\n"
          ]
        }
      ]
    },
    {
      "cell_type": "code",
      "source": [
        "#intiliazing one element and calling other element\n",
        "def add(a,b = 4):\n",
        "  return a + b\n",
        "result = add(2)\n",
        "print(result)"
      ],
      "metadata": {
        "colab": {
          "base_uri": "https://localhost:8080/"
        },
        "id": "MA6qNrQoUPmj",
        "outputId": "b5f4e2c5-5612-4c3f-fc74-df308f34587d"
      },
      "execution_count": null,
      "outputs": [
        {
          "output_type": "stream",
          "name": "stdout",
          "text": [
            "6\n"
          ]
        }
      ]
    },
    {
      "cell_type": "markdown",
      "source": [
        "LISTS"
      ],
      "metadata": {
        "id": "EPbxHzAKVxPW"
      }
    },
    {
      "cell_type": "code",
      "source": [
        "list = ['Dhoni','Virat','Pant','Rohit','Gill','Strokes']\n",
        "print(list[0])"
      ],
      "metadata": {
        "colab": {
          "base_uri": "https://localhost:8080/"
        },
        "id": "mmfnxShBVPmi",
        "outputId": "c8948132-ed6d-4686-fd05-d2f4498e75f4"
      },
      "execution_count": null,
      "outputs": [
        {
          "output_type": "stream",
          "name": "stdout",
          "text": [
            "Dhoni\n"
          ]
        }
      ]
    },
    {
      "cell_type": "code",
      "source": [
        "list[0:2] # here 0,1 were included tow will not be included"
      ],
      "metadata": {
        "colab": {
          "base_uri": "https://localhost:8080/"
        },
        "id": "5gHmjEqoV7PK",
        "outputId": "a60b94c8-cccd-4b30-8494-d2ab26187e71"
      },
      "execution_count": null,
      "outputs": [
        {
          "output_type": "execute_result",
          "data": {
            "text/plain": [
              "['Dhoni', 'Virat']"
            ]
          },
          "metadata": {},
          "execution_count": 35
        }
      ]
    },
    {
      "cell_type": "code",
      "source": [
        "list[2:5]"
      ],
      "metadata": {
        "colab": {
          "base_uri": "https://localhost:8080/"
        },
        "id": "HGo8B08VWNQ_",
        "outputId": "d57cef4e-d228-42f0-aa0f-06a803530b6e"
      },
      "execution_count": null,
      "outputs": [
        {
          "output_type": "execute_result",
          "data": {
            "text/plain": [
              "['Pant', 'Rohit', 'Gill']"
            ]
          },
          "metadata": {},
          "execution_count": 36
        }
      ]
    },
    {
      "cell_type": "code",
      "source": [
        "list[-1] #to find the last number of list"
      ],
      "metadata": {
        "colab": {
          "base_uri": "https://localhost:8080/",
          "height": 35
        },
        "id": "F5KXmLBNWe1E",
        "outputId": "f8b89033-e7d3-4f7b-ef3c-9d0c0fb0bfc9"
      },
      "execution_count": null,
      "outputs": [
        {
          "output_type": "execute_result",
          "data": {
            "text/plain": [
              "'Strokes'"
            ],
            "application/vnd.google.colaboratory.intrinsic+json": {
              "type": "string"
            }
          },
          "metadata": {},
          "execution_count": 37
        }
      ]
    },
    {
      "cell_type": "code",
      "source": [
        "#length\n",
        "len(list)"
      ],
      "metadata": {
        "colab": {
          "base_uri": "https://localhost:8080/"
        },
        "id": "LomOm1y1WlkJ",
        "outputId": "ee90b7d7-3155-4826-c93e-45a9fc33fbf2"
      },
      "execution_count": null,
      "outputs": [
        {
          "output_type": "execute_result",
          "data": {
            "text/plain": [
              "6"
            ]
          },
          "metadata": {},
          "execution_count": 38
        }
      ]
    },
    {
      "cell_type": "code",
      "source": [
        "list1 = ['Dhoni','Virat','Pant','Rohit','Gill','Strokes']\n",
        "list2 = ['Jadeja','thakur','kuldeep','siraj']\n",
        "all = list1 + list2\n",
        "print(all)"
      ],
      "metadata": {
        "colab": {
          "base_uri": "https://localhost:8080/"
        },
        "id": "_z36ljQNWqeh",
        "outputId": "f1d6cdd7-452a-4ad8-e123-1f5fa9068b41"
      },
      "execution_count": null,
      "outputs": [
        {
          "output_type": "stream",
          "name": "stdout",
          "text": [
            "['Dhoni', 'Virat', 'Pant', 'Rohit', 'Gill', 'Strokes', 'Jadeja', 'thakur', 'kuldeep', 'siraj']\n"
          ]
        }
      ]
    },
    {
      "cell_type": "code",
      "source": [
        "#finding the memebers if exists\n",
        "'Gill' in list1"
      ],
      "metadata": {
        "colab": {
          "base_uri": "https://localhost:8080/"
        },
        "id": "GaeBHCwUW6-B",
        "outputId": "de9ec916-db8a-45fc-c251-60dbc8a611b0"
      },
      "execution_count": null,
      "outputs": [
        {
          "output_type": "execute_result",
          "data": {
            "text/plain": [
              "True"
            ]
          },
          "metadata": {},
          "execution_count": 42
        }
      ]
    },
    {
      "cell_type": "code",
      "source": [
        "#finding index\n",
        "list2.index('siraj')"
      ],
      "metadata": {
        "colab": {
          "base_uri": "https://localhost:8080/"
        },
        "id": "Lw7dvehkXBY7",
        "outputId": "c6f0c407-a642-4067-ec1b-685cce8718b3"
      },
      "execution_count": null,
      "outputs": [
        {
          "output_type": "execute_result",
          "data": {
            "text/plain": [
              "3"
            ]
          },
          "metadata": {},
          "execution_count": 44
        }
      ]
    },
    {
      "cell_type": "code",
      "source": [
        "#reverse\n",
        "all.reverse()\n",
        "all"
      ],
      "metadata": {
        "colab": {
          "base_uri": "https://localhost:8080/"
        },
        "id": "mkg6ajrTXPY8",
        "outputId": "7d45265f-db55-4819-d34a-4161f1894ee3"
      },
      "execution_count": null,
      "outputs": [
        {
          "output_type": "execute_result",
          "data": {
            "text/plain": [
              "['siraj',\n",
              " 'kuldeep',\n",
              " 'thakur',\n",
              " 'Jadeja',\n",
              " 'Strokes',\n",
              " 'Gill',\n",
              " 'Rohit',\n",
              " 'Pant',\n",
              " 'Virat',\n",
              " 'Dhoni']"
            ]
          },
          "metadata": {},
          "execution_count": 48
        }
      ]
    },
    {
      "cell_type": "markdown",
      "source": [
        "TUPLES"
      ],
      "metadata": {
        "id": "udGUGYH_FPTN"
      }
    },
    {
      "cell_type": "code",
      "source": [
        "tuple = ('Kohli','2003')\n",
        "print(tuple)"
      ],
      "metadata": {
        "id": "4BPgB8yLXdhI",
        "colab": {
          "base_uri": "https://localhost:8080/"
        },
        "outputId": "706fcfc4-47b4-47ae-8a32-209728b256e6"
      },
      "execution_count": 1,
      "outputs": [
        {
          "output_type": "stream",
          "name": "stdout",
          "text": [
            "('Kohli', '2003')\n"
          ]
        }
      ]
    },
    {
      "cell_type": "code",
      "source": [
        "tuple[0]"
      ],
      "metadata": {
        "colab": {
          "base_uri": "https://localhost:8080/",
          "height": 35
        },
        "id": "KNg3t-JOFext",
        "outputId": "41950510-587c-4673-f15d-205bc6e73c2d"
      },
      "execution_count": 2,
      "outputs": [
        {
          "output_type": "execute_result",
          "data": {
            "text/plain": [
              "'Kohli'"
            ],
            "application/vnd.google.colaboratory.intrinsic+json": {
              "type": "string"
            }
          },
          "metadata": {},
          "execution_count": 2
        }
      ]
    },
    {
      "cell_type": "markdown",
      "source": [
        "SETS"
      ],
      "metadata": {
        "id": "KOSupgGPGBz-"
      }
    },
    {
      "cell_type": "code",
      "source": [
        "#set removes duplicate values automatically and prints unique values\n",
        "set = {1,1,2,3,4,5,6,6}\n",
        "print(set)"
      ],
      "metadata": {
        "colab": {
          "base_uri": "https://localhost:8080/"
        },
        "id": "ZT3pblmkGRtE",
        "outputId": "1052c3cb-af95-4968-8c5a-6b1d639a39e2"
      },
      "execution_count": 8,
      "outputs": [
        {
          "output_type": "stream",
          "name": "stdout",
          "text": [
            "{1, 2, 3, 4, 5, 6}\n"
          ]
        }
      ]
    },
    {
      "cell_type": "code",
      "source": [
        "#union\n",
        "set1 = {\"Dhoni\",\"Virat\"}\n",
        "set2 = {\"Rohit\",\"Pant\"}\n",
        "set1.union(set2)"
      ],
      "metadata": {
        "colab": {
          "base_uri": "https://localhost:8080/"
        },
        "id": "z2j2j2R6GvFI",
        "outputId": "eb837d42-f472-4425-f865-a172f8ff2674"
      },
      "execution_count": 9,
      "outputs": [
        {
          "output_type": "execute_result",
          "data": {
            "text/plain": [
              "{'Dhoni', 'Pant', 'Rohit', 'Virat'}"
            ]
          },
          "metadata": {},
          "execution_count": 9
        }
      ]
    },
    {
      "cell_type": "code",
      "source": [
        "#intersection\n",
        "set1 = {\"Dhoni\",\"Virat\",\"Pant\"}\n",
        "set2 = {\"Rohit\",\"Pant\"}\n",
        "set1.intersection(set2)"
      ],
      "metadata": {
        "colab": {
          "base_uri": "https://localhost:8080/"
        },
        "id": "-nJxnd0EG2Af",
        "outputId": "16571423-fe8b-4bc4-a2a1-143382edc8f6"
      },
      "execution_count": 10,
      "outputs": [
        {
          "output_type": "execute_result",
          "data": {
            "text/plain": [
              "{'Pant'}"
            ]
          },
          "metadata": {},
          "execution_count": 10
        }
      ]
    },
    {
      "cell_type": "code",
      "source": [
        "#difference\n",
        "set1 = {\"Dhoni\",\"Virat\",\"Pant\"}\n",
        "set2 = {\"Rohit\",\"Pant\"}\n",
        "set1.difference(set2)"
      ],
      "metadata": {
        "colab": {
          "base_uri": "https://localhost:8080/"
        },
        "id": "3XsL0D22G7vZ",
        "outputId": "968a9682-f8fd-4f68-e118-f8f776a460fb"
      },
      "execution_count": 12,
      "outputs": [
        {
          "output_type": "execute_result",
          "data": {
            "text/plain": [
              "{'Dhoni', 'Virat'}"
            ]
          },
          "metadata": {},
          "execution_count": 12
        }
      ]
    },
    {
      "cell_type": "markdown",
      "source": [
        "DICTONARY"
      ],
      "metadata": {
        "id": "lPLxOsz0Hbyw"
      }
    },
    {
      "cell_type": "code",
      "source": [
        "dict = {1:\"Dhoni\",2:\"Virat\",3:\"Rohit\",4:\"Pant\"}\n",
        "print(dict[2])"
      ],
      "metadata": {
        "colab": {
          "base_uri": "https://localhost:8080/"
        },
        "id": "aGoBDNS3Hder",
        "outputId": "48ca2b79-b497-4699-875f-22fd4d42bb8e"
      },
      "execution_count": 15,
      "outputs": [
        {
          "output_type": "stream",
          "name": "stdout",
          "text": [
            "Virat\n"
          ]
        }
      ]
    },
    {
      "cell_type": "code",
      "source": [
        "dict.values()"
      ],
      "metadata": {
        "colab": {
          "base_uri": "https://localhost:8080/"
        },
        "id": "sowS3PeFHDzg",
        "outputId": "78f80aae-4879-4b1c-d0b4-f026af31b0ab"
      },
      "execution_count": 16,
      "outputs": [
        {
          "output_type": "execute_result",
          "data": {
            "text/plain": [
              "dict_values(['Dhoni', 'Virat', 'Rohit', 'Pant'])"
            ]
          },
          "metadata": {},
          "execution_count": 16
        }
      ]
    },
    {
      "cell_type": "code",
      "source": [
        "#to add a new value\n",
        "dict[5] = 'Bumrah'"
      ],
      "metadata": {
        "id": "oMAnExQTH_VU"
      },
      "execution_count": 19,
      "outputs": []
    },
    {
      "cell_type": "code",
      "source": [
        "print(dict)"
      ],
      "metadata": {
        "colab": {
          "base_uri": "https://localhost:8080/"
        },
        "id": "aU6eDVIYIaE2",
        "outputId": "c4d54eef-243e-4242-c1e6-d67768eeb50e"
      },
      "execution_count": 20,
      "outputs": [
        {
          "output_type": "stream",
          "name": "stdout",
          "text": [
            "{1: 'Dhoni', 2: 'Virat', 3: 'Rohit', 4: 'Pant', 5: 'Bumrah'}\n"
          ]
        }
      ]
    },
    {
      "cell_type": "markdown",
      "source": [
        "STRINGS"
      ],
      "metadata": {
        "id": "vg-lqQajIeT4"
      }
    },
    {
      "cell_type": "code",
      "source": [
        "string = \"swetha\"\n",
        "string2 = 'sony'\n",
        "print(string)\n",
        "print(string2)"
      ],
      "metadata": {
        "colab": {
          "base_uri": "https://localhost:8080/"
        },
        "id": "ZnQCXYG1Ib8P",
        "outputId": "47e95b92-cd04-42f1-972b-f5844ae4214c"
      },
      "execution_count": 21,
      "outputs": [
        {
          "output_type": "stream",
          "name": "stdout",
          "text": [
            "swetha\n",
            "sony\n"
          ]
        }
      ]
    },
    {
      "cell_type": "code",
      "source": [
        "#multiline string\n",
        "string1 = \"\"\"Hey my name is shweta\"\"\"\n",
        "print(string1)"
      ],
      "metadata": {
        "colab": {
          "base_uri": "https://localhost:8080/"
        },
        "id": "QfLVkFsYIqCv",
        "outputId": "817ebbed-4b1d-4dec-d4f8-6af0ff5952fd"
      },
      "execution_count": 23,
      "outputs": [
        {
          "output_type": "stream",
          "name": "stdout",
          "text": [
            "Hey my name is shweta\n"
          ]
        }
      ]
    },
    {
      "cell_type": "code",
      "source": [
        "string.upper()"
      ],
      "metadata": {
        "colab": {
          "base_uri": "https://localhost:8080/",
          "height": 35
        },
        "id": "zzlANa6yIxJE",
        "outputId": "5f2e9192-a4e1-4bad-f642-a51fe8902cbe"
      },
      "execution_count": 24,
      "outputs": [
        {
          "output_type": "execute_result",
          "data": {
            "text/plain": [
              "'SWETHA'"
            ],
            "application/vnd.google.colaboratory.intrinsic+json": {
              "type": "string"
            }
          },
          "metadata": {},
          "execution_count": 24
        }
      ]
    },
    {
      "cell_type": "code",
      "source": [
        "string.lower()"
      ],
      "metadata": {
        "colab": {
          "base_uri": "https://localhost:8080/",
          "height": 35
        },
        "id": "VOFx2najI6E2",
        "outputId": "b890a7b9-7984-42cd-f8f0-d33df1ab7557"
      },
      "execution_count": 25,
      "outputs": [
        {
          "output_type": "execute_result",
          "data": {
            "text/plain": [
              "'swetha'"
            ],
            "application/vnd.google.colaboratory.intrinsic+json": {
              "type": "string"
            }
          },
          "metadata": {},
          "execution_count": 25
        }
      ]
    },
    {
      "cell_type": "code",
      "source": [
        " string1.split(' ')"
      ],
      "metadata": {
        "colab": {
          "base_uri": "https://localhost:8080/"
        },
        "id": "cQ1yOLHVI8oG",
        "outputId": "2295ef9f-16dd-433f-dcba-b50472f2c406"
      },
      "execution_count": 29,
      "outputs": [
        {
          "output_type": "execute_result",
          "data": {
            "text/plain": [
              "['Hey', 'my', 'name', 'is', 'shweta']"
            ]
          },
          "metadata": {},
          "execution_count": 29
        }
      ]
    },
    {
      "cell_type": "markdown",
      "source": [
        "MODULES AND PACKAGES"
      ],
      "metadata": {
        "id": "xqmXriMhJilH"
      }
    },
    {
      "cell_type": "code",
      "source": [
        "import math\n",
        "math.sqrt(16)"
      ],
      "metadata": {
        "colab": {
          "base_uri": "https://localhost:8080/"
        },
        "id": "CF5MWRmqI_v6",
        "outputId": "8d9230fb-bece-412e-b946-fb08a71468ba"
      },
      "execution_count": 30,
      "outputs": [
        {
          "output_type": "execute_result",
          "data": {
            "text/plain": [
              "4.0"
            ]
          },
          "metadata": {},
          "execution_count": 30
        }
      ]
    },
    {
      "cell_type": "code",
      "source": [
        "from random import sample\n",
        "sample(range(0,11),3)"
      ],
      "metadata": {
        "colab": {
          "base_uri": "https://localhost:8080/"
        },
        "id": "3XtKurZdJoZV",
        "outputId": "f1fdb94a-0c41-471e-f430-ea772472bad0"
      },
      "execution_count": 31,
      "outputs": [
        {
          "output_type": "execute_result",
          "data": {
            "text/plain": [
              "[1, 4, 10]"
            ]
          },
          "metadata": {},
          "execution_count": 31
        }
      ]
    },
    {
      "cell_type": "code",
      "source": [
        "import random\n",
        "a = random.sample(range(0,100),20)\n",
        "print(a)"
      ],
      "metadata": {
        "colab": {
          "base_uri": "https://localhost:8080/"
        },
        "id": "966ZpGA-Jto7",
        "outputId": "04911da9-d4fc-4b42-90cd-5fede22a9dee"
      },
      "execution_count": 33,
      "outputs": [
        {
          "output_type": "stream",
          "name": "stdout",
          "text": [
            "[25, 34, 58, 3, 57, 32, 89, 69, 31, 4, 99, 66, 80, 98, 51, 26, 84, 85, 27, 86]\n"
          ]
        }
      ]
    },
    {
      "cell_type": "code",
      "source": [],
      "metadata": {
        "id": "p8LGC-hYKJS9"
      },
      "execution_count": null,
      "outputs": []
    }
  ]
}